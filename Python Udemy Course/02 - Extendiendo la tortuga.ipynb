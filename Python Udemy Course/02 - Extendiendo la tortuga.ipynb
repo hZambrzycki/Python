{
 "cells": [
  {
   "cell_type": "markdown",
   "id": "f58cff68",
   "metadata": {},
   "source": [
    "# Extendiendo la tortuga\n",
    "\n",
    "Algo que podemos hacer es añadir nuevas funciones para nuestras tortugas extendiendo la clase `Turtle`.\n",
    "\n",
    "Por ejemplo podemos crear un método `rectangulo` que tome una posición inicial `x` e `y`, un `ancho`, un `alto` y un `color` optativo.\n",
    "\n",
    "Eso sí, el requisito será el origen de la ventana arriba a la izquierda para facilitarnos la disposición de los vértices:"
   ]
  },
  {
   "cell_type": "markdown",
   "id": "f38cf08f",
   "metadata": {},
   "source": [
    "`2_extendida.py`\n",
    "\n",
    "```python\n",
    "import turtle\n",
    "\n",
    "window = turtle.Screen()\n",
    "window.title(\"Extendiendo una tortuga\")\n",
    "window.bgcolor(\"#68a0ed\")\n",
    "window.setup(500, 500)\n",
    "window.setworldcoordinates(0, 500, 500, 0)\n",
    "\n",
    "class Tortuga(turtle.Turtle):\n",
    "    def __init__(self, *args, **kwargs):\n",
    "        super().__init__(*args, **kwargs)\n",
    "        self.pensize(2)\n",
    "        self.shape(\"turtle\")\n",
    "\n",
    "    def rectangulo(self, x, y, ancho, alto, color=\"black\"):\n",
    "        self.color(color)\n",
    "        # Levantamos la pluma y nos posicionamos en el primer vértice\n",
    "        self.penup()\n",
    "        self.goto(x+ancho/2, y+alto/2)\n",
    "        # Bajamos la pluma y movemos la tortuga por los vértices\n",
    "        self.pendown()\n",
    "        self.goto(x-ancho/2, y+alto/2)\n",
    "        self.goto(x-ancho/2, y-alto/2)\n",
    "        self.goto(x+ancho/2, y-alto/2)\n",
    "        self.goto(x+ancho/2, y+alto/2)\n",
    "\n",
    "kame = Tortuga()\n",
    "kame.rectangulo(200, 100, 200, 100, color=\"red\")\n",
    "kame.rectangulo(100, 200, 100, 200, color=\"blue\")\n",
    "kame.rectangulo(300, 300, 250, 250, color=\"yellow\")\n",
    "\n",
    "turtle.mainloop()\n",
    "```\n"
   ]
  },
  {
   "cell_type": "markdown",
   "id": "fccf3aa0",
   "metadata": {},
   "source": [
    "Utilizando bucles podemos dibujar cuadrados anidados con diferentes colores:"
   ]
  },
  {
   "cell_type": "markdown",
   "id": "f4e58c9f",
   "metadata": {},
   "source": [
    "```python\n",
    "kame = Tortuga()\n",
    "\n",
    "# Posiciones iniciales\n",
    "x, y = (250, 250)\n",
    "# Ancho y alto inicial\n",
    "w, h = (50, 50)\n",
    "# Incremento por iteración\n",
    "inc = 50\n",
    "\n",
    "for color in [\"yellow\", \"orange\",\"red\", \"brown\", \"purple\", \"blue\", \"cyan\", \"green\", \"black\"]:  \n",
    "    kame.rectangulo(x, y, w, h, color=color)\n",
    "    w += inc\n",
    "    h += inc\n",
    "```"
   ]
  },
  {
   "cell_type": "markdown",
   "id": "0eccfef2",
   "metadata": {},
   "source": [
    "Vamos a añadir otro método, en esta ocasión para dibujar polígonos con un determinado número de lados en relación al centro del lienzo. Si os gustan las matemáticas, especialmente la geometría, esto os encantará:"
   ]
  },
  {
   "cell_type": "markdown",
   "id": "2614d5d1",
   "metadata": {},
   "source": [
    "```python\n",
    "import math\n",
    "\n",
    "class Tortuga(turtle.Turtle):\n",
    "    \n",
    "    def poligono(self, lados, radio, color=\"black\"):\n",
    "        self.color(color)\n",
    "        # Calculamos el ángulo de cada porción\n",
    "        angulo = 2 * math.pi / lados\n",
    "        # Calculamos la posición del primer vértice\n",
    "        # x = radio por seno del ángulo\n",
    "        # y = radio por coseno del ángulo\n",
    "        # Le sumamos el offset del centro del lienzo\n",
    "        ancho_ventana = turtle.screensize()[0]/2\n",
    "        alto_ventana = turtle.screensize()[1]/2\n",
    "        x = ancho_ventana + radio * math.sin(angulo)\n",
    "        y = alto_ventana + radio * math.cos(angulo)\n",
    "        # Posicionamos la tortuga sin dejar rastro y bajamos la pluma\n",
    "        self.penup()\n",
    "        self.goto(x, y)\n",
    "        self.pendown()\n",
    "        # Calculamos la posición de los siguientes vértices trazando las líneas\n",
    "        for i in range(lados+1):\n",
    "            x = ancho_ventana + radio * math.sin(i * angulo)\n",
    "            y = alto_ventana + radio * math.cos(i * angulo)\n",
    "            self.goto(x, y)\n",
    "            \n",
    "            \n",
    "kame = Tortuga()\n",
    "kame.poligono(3, 50, color=\"red\")\n",
    "kame.poligono(4, 75, color=\"blue\")\n",
    "kame.poligono(6, 100, color=\"yellow\")\n",
    "```"
   ]
  },
  {
   "cell_type": "markdown",
   "id": "e65bf2af",
   "metadata": {},
   "source": [
    "El siguiente es uno de mis dibujos favoritos, en él podemos apreciar que cuantos más lados tiene un polígono regular más se asemeja a un círculo:"
   ]
  },
  {
   "cell_type": "markdown",
   "id": "a1ff98f2",
   "metadata": {},
   "source": [
    "```python\n",
    "kame = Tortuga()\n",
    "for n in range(3, 25):\n",
    "    kame.poligono(n, n*10)\n",
    "```"
   ]
  },
  {
   "cell_type": "markdown",
   "id": "ac5dcb91",
   "metadata": {},
   "source": [
    "Como véis podemos extender la tortuga con cualquier método que se nos ocurra para dibujar lo que queramos, a ver si se os ocurre algo interesante!"
   ]
  },
  {
   "cell_type": "code",
   "execution_count": null,
   "id": "9033985f",
   "metadata": {},
   "outputs": [],
   "source": []
  }
 ],
 "metadata": {
  "kernelspec": {
   "display_name": "Python 3 (ipykernel)",
   "language": "python",
   "name": "python3"
  },
  "language_info": {
   "codemirror_mode": {
    "name": "ipython",
    "version": 3
   },
   "file_extension": ".py",
   "mimetype": "text/x-python",
   "name": "python",
   "nbconvert_exporter": "python",
   "pygments_lexer": "ipython3",
   "version": "3.10.5"
  }
 },
 "nbformat": 4,
 "nbformat_minor": 5
}
